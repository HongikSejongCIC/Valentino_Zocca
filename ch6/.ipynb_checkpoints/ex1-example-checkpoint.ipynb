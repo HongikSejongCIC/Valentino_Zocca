{
 "cells": [
  {
   "cell_type": "code",
   "execution_count": 2,
   "metadata": {},
   "outputs": [],
   "source": [
    "# 순환관계 정의\n",
    "def step(s, x, U, W):\n",
    "    s = s + s * W\n",
    "    return s"
   ]
  },
  {
   "cell_type": "code",
   "execution_count": 3,
   "metadata": {},
   "outputs": [],
   "source": [
    "def forward(X, U, W):\n",
    "    # 시퀀스를 따르는 각각의 예시를 위해 상태 활성을 초기화한다.\n",
    "    S = np.zeros((number_of_samples, sequence_length+1))\n",
    "    # 시퀀스들의 상태를 업데이트한다.\n",
    "    for t in range(0, sequence_length):\n",
    "        S[:,t+1] = step(S[:,t], X[:,t], U, W) # step function\n",
    "    return S"
   ]
  },
  {
   "cell_type": "code",
   "execution_count": 6,
   "metadata": {},
   "outputs": [],
   "source": [
    "def backward(X, S, targets, W):\n",
    "    # 결괏값의 기울기를 계산한다.\n",
    "    y = S[:,-1] # 결괏값 `y`는 이 시퀀스에서 마지막 정렬값이다.\n",
    "    # 기울기 w.r.t.의 비용 함수는 마지막 상태다.\n",
    "    gS = 2.0 * (y - targets)\n",
    "    # 기울기를 반대 방향으로 쌓아올린다.\n",
    "    gU, gW = 0, 0 # 기울기 쌓은 개수를 0으로 설정한다.\n",
    "    for k in range(sequence_len, 0, -1):\n",
    "        # 파라미터 기울기를 계산하고 결괏값을 쌓아올린다.\n",
    "        gU += np.sum(gS * X[:,k-1])\n",
    "        gW += np.sum(gS * S[:,k-1])\n",
    "        # 이전 레이어의 결과로 기울기를 계산한다.\n",
    "        gS = gS * W\n",
    "    return gU, gW"
   ]
  },
  {
   "cell_type": "code",
   "execution_count": 10,
   "metadata": {},
   "outputs": [
    {
     "ename": "NameError",
     "evalue": "name 'X' is not defined",
     "output_type": "error",
     "traceback": [
      "\u001b[0;31m---------------------------------------------------------------------------\u001b[0m",
      "\u001b[0;31mNameError\u001b[0m                                 Traceback (most recent call last)",
      "\u001b[0;32m<ipython-input-10-578367eb6368>\u001b[0m in \u001b[0;36m<module>\u001b[0;34m\u001b[0m\n\u001b[1;32m      7\u001b[0m \u001b[0;32mfor\u001b[0m \u001b[0mi\u001b[0m \u001b[0;32min\u001b[0m \u001b[0mrange\u001b[0m\u001b[0;34m(\u001b[0m\u001b[0mnumber_iterations\u001b[0m\u001b[0;34m)\u001b[0m\u001b[0;34m:\u001b[0m\u001b[0;34m\u001b[0m\u001b[0;34m\u001b[0m\u001b[0m\n\u001b[1;32m      8\u001b[0m     \u001b[0;31m# 기울기를 갖기 위해 피드 포워드와 역전파 모두 실행한다.\u001b[0m\u001b[0;34m\u001b[0m\u001b[0;34m\u001b[0m\u001b[0;34m\u001b[0m\u001b[0m\n\u001b[0;32m----> 9\u001b[0;31m     \u001b[0mS\u001b[0m \u001b[0;34m=\u001b[0m \u001b[0mforward\u001b[0m\u001b[0;34m(\u001b[0m\u001b[0mX\u001b[0m\u001b[0;34m,\u001b[0m \u001b[0mparameters\u001b[0m\u001b[0;34m(\u001b[0m\u001b[0;36m0\u001b[0m\u001b[0;34m)\u001b[0m\u001b[0;34m,\u001b[0m \u001b[0mparameters\u001b[0m\u001b[0;34m(\u001b[0m\u001b[0;36m1\u001b[0m\u001b[0;34m)\u001b[0m\u001b[0;34m)\u001b[0m\u001b[0;34m\u001b[0m\u001b[0;34m\u001b[0m\u001b[0m\n\u001b[0m\u001b[1;32m     10\u001b[0m     \u001b[0mgradients\u001b[0m \u001b[0;34m=\u001b[0m \u001b[0mbackward\u001b[0m\u001b[0;34m(\u001b[0m\u001b[0mX\u001b[0m\u001b[0;34m,\u001b[0m \u001b[0mS\u001b[0m\u001b[0;34m,\u001b[0m \u001b[0mtargets\u001b[0m\u001b[0;34m,\u001b[0m \u001b[0mparameters\u001b[0m\u001b[0;34m(\u001b[0m\u001b[0;36m1\u001b[0m\u001b[0;34m)\u001b[0m\u001b[0;34m)\u001b[0m\u001b[0;34m\u001b[0m\u001b[0;34m\u001b[0m\u001b[0m\n\u001b[1;32m     11\u001b[0m     \u001b[0;31m# p = p - (기울기 * 학습률)을 통해 각각의 파라미터 `p`를 업데이트한다.\u001b[0m\u001b[0;34m\u001b[0m\u001b[0;34m\u001b[0m\u001b[0;34m\u001b[0m\u001b[0m\n",
      "\u001b[0;31mNameError\u001b[0m: name 'X' is not defined"
     ]
    }
   ],
   "source": [
    "learning_rate = 0.0005\n",
    "# 초기 파라미터를 설정한다.\n",
    "parameters = (-2, 0) # (U, W)\n",
    "# 경사 하강법을 반복적으로 수행한다.\n",
    "number_iterations = 10 # 추가\n",
    "\n",
    "for i in range(number_iterations):\n",
    "    # 기울기를 갖기 위해 피드 포워드와 역전파 모두 실행한다.\n",
    "    S = forward(X, parameters(0), parameters(1))\n",
    "    gradients = backward(X, S, targets, parameters(1))\n",
    "    # p = p - (기울기 * 학습률)을 통해 각각의 파라미터 `p`를 업데이트한다.\n",
    "    # 파라미터 `p`의 기울기는 `gp`이다.\n",
    "    parameters = ((p - gp * learning_rate) for p, gp in zip(parameters, gradients))"
   ]
  },
  {
   "cell_type": "code",
   "execution_count": null,
   "metadata": {},
   "outputs": [],
   "source": []
  }
 ],
 "metadata": {
  "kernelspec": {
   "display_name": "Python 3",
   "language": "python",
   "name": "python3"
  },
  "language_info": {
   "codemirror_mode": {
    "name": "ipython",
    "version": 3
   },
   "file_extension": ".py",
   "mimetype": "text/x-python",
   "name": "python",
   "nbconvert_exporter": "python",
   "pygments_lexer": "ipython3",
   "version": "3.6.7"
  }
 },
 "nbformat": 4,
 "nbformat_minor": 2
}
