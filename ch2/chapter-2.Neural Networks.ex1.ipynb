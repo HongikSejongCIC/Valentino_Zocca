{
 "cells": [
  {
   "cell_type": "code",
   "execution_count": 9,
   "metadata": {},
   "outputs": [
    {
     "name": "stdout",
     "output_type": "stream",
     "text": [
      "계단함수는 -5.0에서 시작해서 5.0 에서 끝난다.\n"
     ]
    },
    {
     "name": "stderr",
     "output_type": "stream",
     "text": [
      "/Users/mac88/code/.virtualenvs/deeplearning/lib/python3.6/site-packages/ipykernel_launcher.py:26: RuntimeWarning: overflow encountered in exp\n",
      "/Users/mac88/code/.virtualenvs/deeplearning/lib/python3.6/site-packages/ipykernel_launcher.py:27: RuntimeWarning: overflow encountered in exp\n"
     ]
    },
    {
     "data": {
      "image/png": "[encoded data removed]",
      "text/plain": [
       "<Figure size 432x288 with 1 Axes>"
      ]
     },
     "metadata": {
      "needs_background": "light"
     },
     "output_type": "display_data"
    }
   ],
   "source": [
    "# 사용자는 웨이트 w의 값을 수정할 수 있다. \n",
    "# biasValue1과 biasValue2 모두 관찰할 수 있다. \n",
    "# 이 그래프가 어떻게 계단 함수와 다른지 확인 해보자.\n",
    "\n",
    "import numpy\n",
    "import matplotlib.pyplot as plt\n",
    "\n",
    "weightValue = 1000\n",
    "# 계단함수의 시작하는 값을 수정할 수 있다. \n",
    "biasValue1 = 5000\n",
    "\n",
    "# 계단함수의 끝나는 값을 수정할 수 있다. \n",
    "biasValue2 = -5000\n",
    "\n",
    "plt.axis([-10, 10, -1, 10])\n",
    "\n",
    "x = numpy.linspace(-10, 10, 100)\n",
    "# x 는 [-10, 10] 이다. (역주)\n",
    "\n",
    "print (\"계단함수는 {0}에서 시작해서 {1} 에서 끝난다.\"\n",
    "           .format(-biasValue1/weightValue,\n",
    "           -biasValue2/weightValue))\n",
    "\n",
    "y1 = 1.0/(1.0 + numpy.exp(-weightValue*x - biasValue1))\n",
    "y2 = 1.0/(1.0 + numpy.exp(-weightValue*x - biasValue2))\n",
    "# 계단함수의 폭을 수정할 수있다. \n",
    "w = 7\n",
    "y = y1*w-y2*w\n",
    "plt.plot(x, y, lw=2, color=\"black\")\n",
    "plt.show()\n"
   ]
  },
  {
   "cell_type": "code",
   "execution_count": null,
   "metadata": {
    "collapsed": true
   },
   "outputs": [],
   "source": []
  }
 ],
 "metadata": {
  "kernelspec": {
   "display_name": "Python 3",
   "language": "python",
   "name": "python3"
  },
  "language_info": {
   "codemirror_mode": {
    "name": "ipython",
    "version": 3
   },
   "file_extension": ".py",
   "mimetype": "text/x-python",
   "name": "python",
   "nbconvert_exporter": "python",
   "pygments_lexer": "ipython3",
   "version": "3.6.7"
  }
 },
 "nbformat": 4,
 "nbformat_minor": 1
}
