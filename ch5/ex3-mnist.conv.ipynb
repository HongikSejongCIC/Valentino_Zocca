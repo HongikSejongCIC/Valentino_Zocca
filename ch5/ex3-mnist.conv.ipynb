{
 "cells": [
  {
   "cell_type": "code",
   "execution_count": 2,
   "metadata": {},
   "outputs": [
    {
     "name": "stdout",
     "output_type": "stream",
     "text": [
      "Train on 54000 samples, validate on 6000 samples\n",
      "Epoch 1/2\n",
      "54000/54000 [==============================] - 109s 2ms/step - loss: 0.1993 - acc: 0.9381 - val_loss: 0.0579 - val_acc: 0.9847\n",
      "Epoch 2/2\n",
      "54000/54000 [==============================] - 110s 2ms/step - loss: 0.0540 - acc: 0.9836 - val_loss: 0.0478 - val_acc: 0.9880\n",
      "10000/10000 [==============================] - 5s 468us/step\n",
      "테스트 정확도: 0.9844\n"
     ]
    }
   ],
   "source": [
    "import numpy as np     \n",
    "np.random.seed(0)  \n",
    "\n",
    "from keras.datasets import mnist\n",
    "from keras.models import Sequential \n",
    "from keras.layers import Dense, Activation\n",
    "from keras.layers import Convolution2D, MaxPooling2D\n",
    "from keras.layers import Dropout, Flatten\n",
    "\n",
    "from keras.utils import np_utils\n",
    "\n",
    "input_size = 784\n",
    "batch_size = 100     \n",
    "hidden_neurons = 200\n",
    "\n",
    "classes = 10     \n",
    "epochs = 8\n",
    "\n",
    "(X_train, Y_train), (X_test, Y_test) = mnist.load_data()\n",
    "\n",
    "X_train = X_train.reshape(60000, 28, 28, 1)     \n",
    "X_test = X_test.reshape(10000, 28, 28, 1)\n",
    "\n",
    "X_train = X_train.astype('float32')     \n",
    "X_test = X_test.astype('float32')     \n",
    "X_train /= 255     \n",
    "X_test /= 255\n",
    "\n",
    "Y_train = np_utils.to_categorical(Y_train, classes)     \n",
    "Y_test = np_utils.to_categorical(Y_test, classes)\n",
    "\n",
    "model = Sequential() \n",
    "model.add(Convolution2D(32, (3, 3), input_shape=(28, 28, 1)))\n",
    "model.add(Activation('relu'))\n",
    "model.add(Convolution2D(32, (3, 3)))  \n",
    "model.add(Activation('relu'))\n",
    "model.add(MaxPooling2D(pool_size=(2, 2))) \n",
    "model.add(Dropout(0.25))  \n",
    "               \n",
    "model.add(Flatten())\n",
    " \n",
    "model.add(Dense(hidden_neurons)) \n",
    "model.add(Activation('relu'))      \n",
    "model.add(Dense(classes)) \n",
    "model.add(Activation('softmax'))\n",
    "     \n",
    "\n",
    "model.compile(loss='categorical_crossentropy', metrics=['accuracy'], optimizer='adadelta')\n",
    "\n",
    "model.fit(X_train, Y_train, batch_size=batch_size, epochs=epochs, validation_split = 0.1, verbose=1)\n",
    "\n",
    "score = model.evaluate(X_test, Y_test, verbose=1)\n",
    "print('테스트 정확도:', score[1]) "
   ]
  },
  {
   "cell_type": "code",
   "execution_count": null,
   "metadata": {},
   "outputs": [],
   "source": []
  }
 ],
 "metadata": {
  "kernelspec": {
   "display_name": "Python 3",
   "language": "python",
   "name": "python3"
  },
  "language_info": {
   "codemirror_mode": {
    "name": "ipython",
    "version": 3
   },
   "file_extension": ".py",
   "mimetype": "text/x-python",
   "name": "python",
   "nbconvert_exporter": "python",
   "pygments_lexer": "ipython3",
   "version": "3.6.7"
  }
 },
 "nbformat": 4,
 "nbformat_minor": 2
}
