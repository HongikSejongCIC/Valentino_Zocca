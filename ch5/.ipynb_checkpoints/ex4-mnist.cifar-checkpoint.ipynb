{
 "cells": [
  {
   "cell_type": "code",
   "execution_count": null,
   "metadata": {},
   "outputs": [],
   "source": [
    "import numpy               \n",
    "\n",
    "from keras.datasets import cifar10\n",
    "from keras.models import Sequential \n",
    "from keras.layers.core import Dense, Activation\n",
    "from keras.layers import Convolution2D, MaxPooling2D, Flatten\n",
    "from keras.layers import Dropout\n",
    "from keras.utils import np_utils\n",
    "\n",
    "batch_size = 100     \n",
    "hidden_neurons = 200\n",
    "classes = 10     \n",
    "epochs = 1\n",
    "\n",
    "(X_train, Y_train), (X_test, Y_test) = cifar10.load_data()\n",
    "\n",
    "\n",
    "Y_train = np_utils.to_categorical(Y_train, classes)     \n",
    "Y_test = np_utils.to_categorical(Y_test, classes)\n",
    "\n",
    "model = Sequential() \n",
    "model.add(Convolution2D(32, (3, 3), input_shape=(32, 32, 3)))\n",
    "model.add(Activation('relu'))\n",
    "model.add(Convolution2D(32, (3, 3)))  \n",
    "model.add(Activation('relu'))\n",
    "model.add(MaxPooling2D(pool_size=(2, 2)))\n",
    "model.add(Dropout(0.25))   \n",
    "\n",
    "model.add(Convolution2D(64, (3, 3))) \n",
    "model.add(Activation('relu'))     \n",
    "model.add(Convolution2D(64, (3, 3)))     \n",
    "model.add(Activation('relu'))     \n",
    "model.add(MaxPooling2D(pool_size=(2, 2)))     \n",
    "model.add(Dropout(0.25))\n",
    "               \n",
    "model.add(Flatten())\n",
    " \n",
    "model.add(Dense(hidden_neurons)) \n",
    "model.add(Activation('relu')) \n",
    "model.add(Dropout(0.5))      \n",
    "model.add(Dense(classes)) \n",
    "model.add(Activation('softmax'))\n",
    "     \n",
    "\n",
    "model.compile(loss='categorical_crossentropy', metrics=['accuracy'], optimizer='adadelta')\n",
    "\n",
    "model.fit(X_train, Y_train, batch_size=batch_size, epochs=epochs, validation_split = 0.1, verbose=1)\n",
    "\n",
    "score = model.evaluate(X_test, Y_test, verbose=1)\n",
    "print('Test accuracy:', score[1]) \n",
    "\n",
    "numpy.set_printoptions(threshold='nan')  \n",
    "index = 0"
   ]
  },
  {
   "cell_type": "code",
   "execution_count": null,
   "metadata": {},
   "outputs": [],
   "source": [
    "for layer in model.layers:       \n",
    "    filename = \"conv_layer_\" + str(index)\n",
    "    f1 = open(filename, 'w+')\n",
    "    f1.write(repr(layer.get_weights()))\n",
    "    f1.close()\n",
    "    print (filename = \" has been opened and closed\")\n",
    "    index = index+1"
   ]
  }
 ],
 "metadata": {
  "kernelspec": {
   "display_name": "Python 3",
   "language": "python",
   "name": "python3"
  },
  "language_info": {
   "codemirror_mode": {
    "name": "ipython",
    "version": 3
   },
   "file_extension": ".py",
   "mimetype": "text/x-python",
   "name": "python",
   "nbconvert_exporter": "python",
   "pygments_lexer": "ipython3",
   "version": "3.6.7"
  }
 },
 "nbformat": 4,
 "nbformat_minor": 2
}
