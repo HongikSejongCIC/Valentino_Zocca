{
 "cells": [
  {
   "cell_type": "code",
   "execution_count": 1,
   "metadata": {},
   "outputs": [
    {
     "name": "stderr",
     "output_type": "stream",
     "text": [
      "Using TensorFlow backend.\n"
     ]
    }
   ],
   "source": [
    "import numpy\n",
    "from keras.datasets import mnist\n",
    "import matplotlib.pyplot as plt\n",
    "import matplotlib.cm as cm"
   ]
  },
  {
   "cell_type": "code",
   "execution_count": 2,
   "metadata": {},
   "outputs": [],
   "source": [
    "def main(image, im_filter):\n",
    "    im = X_train[image]\n",
    "    width = im.shape[0]\n",
    "    height = im.shape[1]\n",
    "    imC = numpy.zeros((width-2, height-2))\n",
    "    \n",
    "    for row in range(1,width-1):\n",
    "        for col in range(1,height-1):\n",
    "            for i in range(len(im_filter[0])):\n",
    "                for j in range(len(im_filter)):\n",
    "                    imC[row-1][col-1] += im[row-1+i][col-1+j]*im_filter[i][j]\n",
    "            if imC[row-1][col-1] > 255:\n",
    "                imC[row-1][col-1] = 255\n",
    "            elif imC[row-1][col-1] < 0:\n",
    "                imC[row-1][col-1] = 0\n",
    "    plt.imshow( im, cmap = cm.Greys_r )\n",
    "    plt.show()\n",
    "    plt.imshow( imC/255, cmap = cm.Greys_r )\n",
    "    plt.show()\n",
    "            \n",
    "                "
   ]
  },
  {
   "cell_type": "code",
   "execution_count": 6,
   "metadata": {},
   "outputs": [
    {
     "data": {
      "image/png": "[encoded data removed]",
      "text/plain": [
       "<Figure size 432x288 with 1 Axes>"
      ]
     },
     "metadata": {
      "needs_background": "light"
     },
     "output_type": "display_data"
    },
    {
     "data": {
      "image/png": "[encoded data removed]",
      "text/plain": [
       "<Figure size 432x288 with 1 Axes>"
      ]
     },
     "metadata": {
      "needs_background": "light"
     },
     "output_type": "display_data"
    }
   ],
   "source": [
    "if __name__ == '__main__':\n",
    "    (X_train, Y_train), (X_test, Y_test) = mnist.load_data()\n",
    "    # blur = [[1./9, 1./9, 1./9], [1./9, 1./9, 1./9], [1./9, 1./9, 1./9]] \n",
    "    edges = [[1, 1, 1], [1, -8, 1], [1, 1, 1]]\n",
    "    main(3, edges)"
   ]
  },
  {
   "cell_type": "code",
   "execution_count": null,
   "metadata": {},
   "outputs": [],
   "source": []
  }
 ],
 "metadata": {
  "kernelspec": {
   "display_name": "Python 3",
   "language": "python",
   "name": "python3"
  },
  "language_info": {
   "codemirror_mode": {
    "name": "ipython",
    "version": 3
   },
   "file_extension": ".py",
   "mimetype": "text/x-python",
   "name": "python",
   "nbconvert_exporter": "python",
   "pygments_lexer": "ipython3",
   "version": "3.6.7"
  }
 },
 "nbformat": 4,
 "nbformat_minor": 2
}
