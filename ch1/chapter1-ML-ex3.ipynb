{
 "cells": [
  {
   "cell_type": "code",
   "execution_count": 15,
   "metadata": {},
   "outputs": [],
   "source": [
    "from sklearn.neural_network.multilayer_perceptron import MLPClassifier\n",
    "from sklearn import datasets\n",
    "\n",
    "# 현재, cross_validation 메소드가 model_selection 라이브러리로 옮겨졌다. \n",
    "# 그래서 아래의 줄이 아닌, model_selection 을 import 해야한다.\n",
    "#from sklearn.cross_validation import train_test_split\n",
    "from sklearn.model_selection import train_test_split\n",
    " \n",
    "from sklearn.preprocessing import StandardScaler\n",
    "from sklearn.metrics import accuracy_score\n",
    "\n",
    "import numpy\n",
    "from matplotlib.colors import ListedColormap\n",
    "import matplotlib.pyplot as plt\n",
    "\n",
    "# 표준화 적용\n",
    "standardised = True\n",
    "\n",
    "M = {0:\"꽃받침의 폭\", 1:\"꽃받침의 길이\", 2:\"꽃잎의 길이\", 3:\"꽃잎의 폭\"}\n",
    "\n",
    "#Choose two features\n",
    "x=1 #1 corresponds to the sepal width\n",
    "y=3 #3 corresponds to the petal width\n",
    "\n",
    "iris = datasets.load_iris()\n",
    "data = iris.data[:,[x,y]]\n",
    "\n",
    "labels = iris.target"
   ]
  },
  {
   "cell_type": "code",
   "execution_count": 25,
   "metadata": {},
   "outputs": [
    {
     "name": "stdout",
     "output_type": "stream",
     "text": [
      "잘못 분류된 예시들: 6\n",
      "정확도: 0.92\n"
     ]
    },
    {
     "name": "stderr",
     "output_type": "stream",
     "text": [
      "/Users/mac88/code/.virtualenvs/deeplearning/lib/python3.6/site-packages/sklearn/neural_network/multilayer_perceptron.py:562: ConvergenceWarning: Stochastic Optimizer: Maximum iterations (200) reached and the optimization hasn't converged yet.\n",
      "  % self.max_iter, ConvergenceWarning)\n"
     ]
    }
   ],
   "source": [
    "# 준비단계 (1-1-ML-ex2.py)\n",
    "X_train, X_test, y_train, y_test = train_test_split(data, labels, test_size=0.5, random_state=1)\n",
    "\n",
    "reg = StandardScaler()\n",
    "reg.fit(data)\n",
    "X_train_std = reg.transform(X_train)\n",
    "X_test_std = reg.transform(X_test)\n",
    "\n",
    "if (standardised == False):\n",
    "  X_train_std = X_train\n",
    "  X_test_std = X_test\n",
    "\n",
    "\n",
    "mlp = MLPClassifier(random_state=1, hidden_layer_sizes=(200, 100,)) # 책 32쪽 참조 \n",
    "mlp.fit(X_train_std, y_train)\n",
    "\n",
    "y_pred = mlp.predict(X_test_std)\n",
    "print('잘못 분류된 예시들: %d' % (y_test != y_pred).sum())\n",
    "\n",
    "print('정확도: %.2f' % accuracy_score(y_test, y_pred))\n"
   ]
  },
  {
   "cell_type": "code",
   "execution_count": 26,
   "metadata": {},
   "outputs": [
    {
     "name": "stderr",
     "output_type": "stream",
     "text": [
      "'c' argument looks like a single numeric RGB or RGBA sequence, which should be avoided as value-mapping will have precedence in case its length matches with 'x' & 'y'.  Please use a 2-D array with a single row if you really want to specify the same RGB or RGBA value for all points.\n",
      "'c' argument looks like a single numeric RGB or RGBA sequence, which should be avoided as value-mapping will have precedence in case its length matches with 'x' & 'y'.  Please use a 2-D array with a single row if you really want to specify the same RGB or RGBA value for all points.\n",
      "'c' argument looks like a single numeric RGB or RGBA sequence, which should be avoided as value-mapping will have precedence in case its length matches with 'x' & 'y'.  Please use a 2-D array with a single row if you really want to specify the same RGB or RGBA value for all points.\n"
     ]
    },
    {
     "data": {
      "image/png": "[encoded data removed]",
      "text/plain": [
       "<Figure size 432x288 with 1 Axes>"
      ]
     },
     "metadata": {
      "needs_background": "light"
     },
     "output_type": "display_data"
    }
   ],
   "source": [
    "# 2차원 이미지로 표현하기\n",
    "markers = ('s', '*', '^')\n",
    "colors = ('blue', 'green', 'red')\n",
    "cmap = ListedColormap(colors)\n",
    "\n",
    "x_min, x_max = data[:, 0].min() - 1, data[:, 0].max() + 1\n",
    "y_min, y_max = data[:, 1].min() - 1, data[:, 0].max() + 1\n",
    "resolution = 0.01\n",
    "\n",
    "x, y = numpy.meshgrid(numpy.arange(x_min, x_max, resolution), numpy.arange(y_min, y_max, resolution)) \n",
    "z = mlp.predict(numpy.array([x.ravel(), y.ravel()]).T)\n",
    "z = z.reshape(x.shape)\n",
    "\n",
    "plt.pcolormesh(x, y, z, cmap=cmap)\n",
    "plt.xlim(x.min(), x.max())\n",
    "\n",
    "plt.ylim(y.min(), y.max())\n",
    "# 데이터 시각화하기\n",
    "classes = [\"setosa\", \"versicolor\", \"verginica\"]\n",
    "for index, cl in enumerate(numpy.unique(labels)):\n",
    "    plt.scatter(data[labels == cl, 0], data[labels == cl, 1],\n",
    "               c=cmap(index), marker=markers[index], s=50, label=classes[index])\n",
    "plt.xlabel('꽃잎 갈이')\n",
    "plt.xlabel('꽃받침 갈이')\n",
    "plt.legend(loc='upper left')\n",
    "plt.show() "
   ]
  },
  {
   "cell_type": "code",
   "execution_count": 27,
   "metadata": {},
   "outputs": [
    {
     "name": "stderr",
     "output_type": "stream",
     "text": [
      "'c' argument looks like a single numeric RGB or RGBA sequence, which should be avoided as value-mapping will have precedence in case its length matches with 'x' & 'y'.  Please use a 2-D array with a single row if you really want to specify the same RGB or RGBA value for all points.\n",
      "'c' argument looks like a single numeric RGB or RGBA sequence, which should be avoided as value-mapping will have precedence in case its length matches with 'x' & 'y'.  Please use a 2-D array with a single row if you really want to specify the same RGB or RGBA value for all points.\n",
      "'c' argument looks like a single numeric RGB or RGBA sequence, which should be avoided as value-mapping will have precedence in case its length matches with 'x' & 'y'.  Please use a 2-D array with a single row if you really want to specify the same RGB or RGBA value for all points.\n"
     ]
    },
    {
     "ename": "TypeError",
     "evalue": "unhashable type: 'numpy.ndarray'",
     "output_type": "error",
     "traceback": [
      "\u001b[0;31m---------------------------------------------------------------------------\u001b[0m",
      "\u001b[0;31mTypeError\u001b[0m                                 Traceback (most recent call last)",
      "\u001b[0;32m<ipython-input-27-14b6c77acde7>\u001b[0m in \u001b[0;36m<module>\u001b[0;34m\u001b[0m\n\u001b[1;32m     33\u001b[0m   \u001b[0myString\u001b[0m \u001b[0;34m=\u001b[0m \u001b[0mM\u001b[0m\u001b[0;34m[\u001b[0m\u001b[0my\u001b[0m\u001b[0;34m]\u001b[0m \u001b[0;34m+\u001b[0m \u001b[0;34m\" [not standardized]\"\u001b[0m\u001b[0;34m\u001b[0m\u001b[0;34m\u001b[0m\u001b[0m\n\u001b[1;32m     34\u001b[0m \u001b[0;32melse\u001b[0m\u001b[0;34m:\u001b[0m\u001b[0;34m\u001b[0m\u001b[0;34m\u001b[0m\u001b[0m\n\u001b[0;32m---> 35\u001b[0;31m   \u001b[0mxString\u001b[0m \u001b[0;34m=\u001b[0m \u001b[0mM\u001b[0m\u001b[0;34m[\u001b[0m\u001b[0mx\u001b[0m\u001b[0;34m]\u001b[0m \u001b[0;34m+\u001b[0m \u001b[0;34m\" [standardized]\"\u001b[0m\u001b[0;34m\u001b[0m\u001b[0;34m\u001b[0m\u001b[0m\n\u001b[0m\u001b[1;32m     36\u001b[0m   \u001b[0myString\u001b[0m \u001b[0;34m=\u001b[0m \u001b[0mM\u001b[0m\u001b[0;34m[\u001b[0m\u001b[0my\u001b[0m\u001b[0;34m]\u001b[0m \u001b[0;34m+\u001b[0m \u001b[0;34m\" [standardized]\"\u001b[0m\u001b[0;34m\u001b[0m\u001b[0;34m\u001b[0m\u001b[0m\n\u001b[1;32m     37\u001b[0m \u001b[0;34m\u001b[0m\u001b[0m\n",
      "\u001b[0;31mTypeError\u001b[0m: unhashable type: 'numpy.ndarray'"
     ]
    },
    {
     "data": {
      "image/png": "[encoded data removed]",
      "text/plain": [
       "<Figure size 432x288 with 1 Axes>"
      ]
     },
     "metadata": {
      "needs_background": "light"
     },
     "output_type": "display_data"
    }
   ],
   "source": [
    "# 함수로 바꾸고, 조금 더 디벨롭 해보자. (파이썬 딥러닝 깃헙코드)\n",
    "\n",
    "# mlp = MLPClassifier(random_state=1, max_iter=1000) # 책과 다름(주석을 풀고 추가해서 해보세요.)\n",
    "def plot_decision_regions(data, labels, classifier, resolution=0.01):\n",
    "    markers = ('s', '*', '^')\n",
    "    colors = ('blue', 'green', 'red')\n",
    "    cmap = ListedColormap(colors)\n",
    "    # plot the decision surface\n",
    "    x_min, x_max = data[:, 0].min() - 1, data[:, 0].max() + 1\n",
    "    y_min, y_max = data[:, 1].min() - 1, data[:, 1].max() + 1\n",
    "\n",
    "    x, y = numpy.meshgrid(numpy.arange(x_min, x_max, resolution), numpy.arange(y_min, y_max, resolution))\n",
    "    Z = classifier.predict(numpy.array([x.ravel(), y.ravel()]).T)\n",
    "    Z = Z.reshape(x.shape)\n",
    "    \n",
    "    plt.pcolormesh(x, y, Z, cmap=cmap)\n",
    "    plt.xlim(x.min(), x.max())\n",
    "    plt.ylim(y.min(), y.max())\n",
    "\n",
    "    colors = ('yellow', 'white', 'black')\n",
    "    #cmap = ListedColormap(colors)\n",
    "    #plot the data\n",
    "    classes = [\"setosa\", \"versicolor\", \"verginica\"]\n",
    "    for index, cl in enumerate(numpy.unique(labels)):\n",
    "        plt.scatter(data[labels == cl, 0], data[labels == cl, 1], c=cmap(index), marker=markers[index], edgecolor=\"black\", alpha=1.0, s=50, label=classes[index])  \n",
    " \n",
    "X_combined_std = numpy.vstack((X_train_std, X_test_std))\n",
    "y_combined = numpy.hstack((y_train, y_test))\n",
    "plot_decision_regions(X_combined_std, y_combined, classifier=mlp)\n",
    "\n",
    "if (standardised == False):\n",
    "  xString = M[x] + \" [not standardized]\"  \n",
    "  yString = M[y] + \" [not standardized]\" \n",
    "else:\n",
    "  xString = M[x] + \" [standardized]\"  \n",
    "  yString = M[y] + \" [standardized]\"  \n",
    "\n",
    "plt.xlabel(xString)\n",
    "plt.ylabel(yString)\n",
    "plt.legend(loc='upper left')\n",
    "plt.show()"
   ]
  },
  {
   "cell_type": "code",
   "execution_count": null,
   "metadata": {
    "collapsed": true
   },
   "outputs": [],
   "source": []
  }
 ],
 "metadata": {
  "kernelspec": {
   "display_name": "Python 3",
   "language": "python",
   "name": "python3"
  },
  "language_info": {
   "codemirror_mode": {
    "name": "ipython",
    "version": 3
   },
   "file_extension": ".py",
   "mimetype": "text/x-python",
   "name": "python",
   "nbconvert_exporter": "python",
   "pygments_lexer": "ipython3",
   "version": "3.6.7"
  }
 },
 "nbformat": 4,
 "nbformat_minor": 1
}
