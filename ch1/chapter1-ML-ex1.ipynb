{
 "cells": [
  {
   "cell_type": "code",
   "execution_count": 3,
   "metadata": {},
   "outputs": [
    {
     "name": "stdout",
     "output_type": "stream",
     "text": [
      "\n",
      "정확도: 0.98\n"
     ]
    }
   ],
   "source": [
    "from sklearn.neural_network.multilayer_perceptron import MLPClassifier\n",
    "from sklearn import datasets\n",
    "from sklearn.metrics import accuracy_score \n",
    "\n",
    "iris = datasets.load_iris() \n",
    "data = iris.data \n",
    "labels = iris.target\n",
    "\n",
    "# 충분히 수렴을 시키기 위해서 max_iter = 1000 을 추가했다. \n",
    "mlp = MLPClassifier(random_state=1, max_iter=1000) \n",
    "mlp.fit(data, labels)\n",
    "\n",
    "pred = mlp.predict(data)\n",
    "\n",
    "print()\n",
    "print('정확도: %.2f' % accuracy_score(labels, pred))"
   ]
  },
  {
   "cell_type": "code",
   "execution_count": null,
   "metadata": {},
   "outputs": [],
   "source": []
  }
 ],
 "metadata": {
  "kernelspec": {
   "display_name": "Python 3",
   "language": "python",
   "name": "python3"
  },
  "language_info": {
   "codemirror_mode": {
    "name": "ipython",
    "version": 3
   },
   "file_extension": ".py",
   "mimetype": "text/x-python",
   "name": "python",
   "nbconvert_exporter": "python",
   "pygments_lexer": "ipython3",
   "version": "3.6.7"
  }
 },
 "nbformat": 4,
 "nbformat_minor": 2
}
