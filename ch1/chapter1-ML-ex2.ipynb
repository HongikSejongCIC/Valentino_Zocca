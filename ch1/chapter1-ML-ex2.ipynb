{
 "cells": [
  {
   "cell_type": "code",
   "execution_count": 1,
   "metadata": {},
   "outputs": [
    {
     "name": "stdout",
     "output_type": "stream",
     "text": [
      "\n",
      "잘못 분류된 예시들: 2\n",
      "정확도: 0.97\n"
     ]
    }
   ],
   "source": [
    "from sklearn.neural_network.multilayer_perceptron import MLPClassifier\n",
    "from sklearn import datasets\n",
    "from sklearn.metrics import accuracy_score \n",
    "\n",
    "# 현재, cross_validation 메소드가 model_selection 라이브러리로 옮겨졌다. \n",
    "# 그래서 아래의 줄이 아닌, model_selection 을 import 해야한다. \n",
    "#from sklearn.cross_validation import train_test_split \n",
    "from sklearn.model_selection import train_test_split\n",
    "\n",
    "from sklearn.preprocessing import StandardScaler\n",
    "\n",
    "iris = datasets.load_iris() \n",
    "data = iris.data \n",
    "labels = iris.target\n",
    "\n",
    "data_train, data_test, labels_train, labels_test = train_test_split(data, labels, test_size=0.5, random_state=1)  \n",
    "\n",
    "scaler = StandardScaler() \n",
    "scaler.fit(data) \n",
    "data_train_std = scaler.transform(data_train) \n",
    "data_test_std = scaler.transform(data_test)  \n",
    "\n",
    "data_train = data_train_std \n",
    "data_test = data_test_std\n",
    "\n",
    "# 충분히 수렴을 시키기 위해서 max_iter = 1000 을 추가했다. \n",
    "mlp = MLPClassifier(random_state=1, max_iter=1000)\n",
    "mlp.fit(data, labels)\n",
    "mlp.fit(data_train, labels_train)\n",
    "pred = mlp.predict(data_test)\n",
    "\n",
    "print()\n",
    "print('잘못 분류된 예시들: %d' % (labels_test != pred).sum())\n",
    "print('정확도: %.2f' % accuracy_score(labels_test, pred))\n"
   ]
  },
  {
   "cell_type": "code",
   "execution_count": null,
   "metadata": {},
   "outputs": [],
   "source": []
  }
 ],
 "metadata": {
  "kernelspec": {
   "display_name": "Python 3",
   "language": "python",
   "name": "python3"
  },
  "language_info": {
   "codemirror_mode": {
    "name": "ipython",
    "version": 3
   },
   "file_extension": ".py",
   "mimetype": "text/x-python",
   "name": "python",
   "nbconvert_exporter": "python",
   "pygments_lexer": "ipython3",
   "version": "3.6.7"
  }
 },
 "nbformat": 4,
 "nbformat_minor": 2
}
