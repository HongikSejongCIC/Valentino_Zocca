{
 "cells": [
  {
   "cell_type": "code",
   "execution_count": 1,
   "metadata": {
    "scrolled": true
   },
   "outputs": [
    {
     "name": "stderr",
     "output_type": "stream",
     "text": [
      "Using TensorFlow backend.\n"
     ]
    },
    {
     "name": "stdout",
     "output_type": "stream",
     "text": [
      "Epoch 1/30\n",
      "60000/60000 [==============================] - 2s 26us/step - loss: 0.9489 - acc: 0.7571: 0s - loss: 1.0194 - acc: 0\n",
      "Epoch 2/30\n",
      "60000/60000 [==============================] - 1s 20us/step - loss: 0.4975 - acc: 0.8783\n",
      "Epoch 3/30\n",
      "60000/60000 [==============================] - 1s 22us/step - loss: 0.3986 - acc: 0.8965\n",
      "Epoch 4/30\n",
      "60000/60000 [==============================] - 1s 21us/step - loss: 0.3502 - acc: 0.9075\n",
      "Epoch 5/30\n",
      "60000/60000 [==============================] - 1s 21us/step - loss: 0.3206 - acc: 0.9135\n",
      "Epoch 6/30\n",
      "60000/60000 [==============================] - 1s 19us/step - loss: 0.2966 - acc: 0.9194\n",
      "Epoch 7/30\n",
      "60000/60000 [==============================] - 1s 21us/step - loss: 0.2806 - acc: 0.9229\n",
      "Epoch 8/30\n",
      "60000/60000 [==============================] - 1s 21us/step - loss: 0.2658 - acc: 0.9272\n",
      "Epoch 9/30\n",
      "60000/60000 [==============================] - 1s 20us/step - loss: 0.2536 - acc: 0.9304\n",
      "Epoch 10/30\n",
      "60000/60000 [==============================] - 1s 21us/step - loss: 0.2442 - acc: 0.9320\n",
      "Epoch 11/30\n",
      "60000/60000 [==============================] - 1s 21us/step - loss: 0.2369 - acc: 0.9347\n",
      "Epoch 12/30\n",
      "60000/60000 [==============================] - 1s 20us/step - loss: 0.2251 - acc: 0.9375\n",
      "Epoch 13/30\n",
      "60000/60000 [==============================] - 1s 20us/step - loss: 0.2191 - acc: 0.9399\n",
      "Epoch 14/30\n",
      "60000/60000 [==============================] - 1s 20us/step - loss: 0.2116 - acc: 0.9405\n",
      "Epoch 15/30\n",
      "60000/60000 [==============================] - 1s 20us/step - loss: 0.2061 - acc: 0.9424\n",
      "Epoch 16/30\n",
      "60000/60000 [==============================] - 1s 23us/step - loss: 0.1995 - acc: 0.9448\n",
      "Epoch 17/30\n",
      "60000/60000 [==============================] - 1s 21us/step - loss: 0.1960 - acc: 0.9458\n",
      "Epoch 18/30\n",
      "60000/60000 [==============================] - 1s 21us/step - loss: 0.1925 - acc: 0.9468\n",
      "Epoch 19/30\n",
      "60000/60000 [==============================] - 1s 20us/step - loss: 0.1864 - acc: 0.9487\n",
      "Epoch 20/30\n",
      "60000/60000 [==============================] - 1s 21us/step - loss: 0.1855 - acc: 0.9492\n",
      "Epoch 21/30\n",
      "60000/60000 [==============================] - 1s 21us/step - loss: 0.1809 - acc: 0.9497\n",
      "Epoch 22/30\n",
      "60000/60000 [==============================] - 1s 20us/step - loss: 0.1763 - acc: 0.9504\n",
      "Epoch 23/30\n",
      "60000/60000 [==============================] - 1s 22us/step - loss: 0.1725 - acc: 0.9520\n",
      "Epoch 24/30\n",
      "60000/60000 [==============================] - 1s 22us/step - loss: 0.1699 - acc: 0.9528\n",
      "Epoch 25/30\n",
      "60000/60000 [==============================] - 1s 21us/step - loss: 0.1656 - acc: 0.9550\n",
      "Epoch 26/30\n",
      "60000/60000 [==============================] - 1s 22us/step - loss: 0.1625 - acc: 0.9542\n",
      "Epoch 27/30\n",
      "60000/60000 [==============================] - 1s 21us/step - loss: 0.1606 - acc: 0.9552: 0s - loss: 0.163 - ETA: 0s - loss: 0.1614 - acc: 0.9\n",
      "Epoch 28/30\n",
      "60000/60000 [==============================] - 1s 22us/step - loss: 0.1584 - acc: 0.9560\n",
      "Epoch 29/30\n",
      "60000/60000 [==============================] - 1s 21us/step - loss: 0.1557 - acc: 0.9572\n",
      "Epoch 30/30\n",
      "60000/60000 [==============================] - 1s 22us/step - loss: 0.1529 - acc: 0.9576\n",
      "10000/10000 [==============================] - 0s 22us/step\n",
      "테스트집단 정확도: 0.9483\n"
     ]
    },
    {
     "data": {
      "text/plain": [
       "<Figure size 640x480 with 100 Axes>"
      ]
     },
     "metadata": {},
     "output_type": "display_data"
    }
   ],
   "source": [
    "from keras.datasets import mnist\n",
    "from keras.models import Sequential \n",
    "from keras.layers.core import Dense, Activation\n",
    "from keras.utils import np_utils\n",
    "\n",
    "(X_train, Y_train), (X_test, Y_test) = mnist.load_data()\n",
    "\n",
    "X_train = X_train.reshape(60000, 784)     \n",
    "X_test = X_test.reshape(10000, 784)\n",
    "\n",
    "classes = 10\n",
    "Y_train = np_utils.to_categorical(Y_train, classes)     \n",
    "Y_test = np_utils.to_categorical(Y_test, classes)\n",
    "\n",
    "input_size = 784\n",
    "batch_size = 100     \n",
    "hidden_neurons = 100     \n",
    "epochs = 30\n",
    "\n",
    "model = Sequential()     \n",
    "model.add(Dense(hidden_neurons, input_dim=input_size)) \n",
    "model.add(Activation('sigmoid'))     \n",
    "model.add(Dense(classes, input_dim=hidden_neurons)) \n",
    "model.add(Activation('softmax'))\n",
    "\n",
    "model.compile(loss='categorical_crossentropy', metrics=['accuracy'], optimizer='sgd')\n",
    "\n",
    "model.fit(X_train, Y_train, batch_size=batch_size, epochs=epochs, verbose=1)\n",
    "\n",
    "score = model.evaluate(X_test, Y_test, verbose=1)\n",
    "print('테스트집단 정확도:', score[1]) \n",
    "\n",
    "\n",
    "weights = model.layers[0].get_weights()\n",
    "\n"
   ]
  },
  {
   "cell_type": "code",
   "execution_count": 4,
   "metadata": {},
   "outputs": [
    {
     "data": {
      "image/png": "[encoded data removed]",
      "text/plain": [
       "<Figure size 432x288 with 1 Axes>"
      ]
     },
     "metadata": {
      "needs_background": "light"
     },
     "output_type": "display_data"
    }
   ],
   "source": [
    "# 히든 뉴런을 통해 학습한 결과 이미지로 확인하기 \n",
    "\n",
    "import matplotlib.pyplot as plt\n",
    "import matplotlib.cm as cm\n",
    "\n",
    "w = weights[0].T\n",
    "for neuron in range(hidden_neurons):\n",
    "    plt.imshow(numpy.reshape(w[neuron], (28, 28)),\n",
    "    cmap = cm.Greys_r)\n",
    "plt.savefig(\"neuron_images.png\", dpi=300)    \n",
    "plt.show()  "
   ]
  },
  {
   "cell_type": "code",
   "execution_count": 7,
   "metadata": {},
   "outputs": [
    {
     "data": {
      "text/plain": [
       "<Figure size 432x288 with 0 Axes>"
      ]
     },
     "metadata": {},
     "output_type": "display_data"
    }
   ],
   "source": [
    "w = weights[0].T          \n",
    "for neuron in range(hidden_neurons):         \n",
    "    ax = fig.add_subplot(10, 10, neuron+1)\n",
    "    ax.axis(\"off\")\n",
    "    ax.imshow(numpy.reshape(w[neuron], (28, 28)), cmap = cm.Greys_r)\n",
    "\n",
    "plt.savefig(\"neuron_images.png\", dpi=300)\n",
    "plt.show()  "
   ]
  },
  {
   "cell_type": "code",
   "execution_count": null,
   "metadata": {},
   "outputs": [],
   "source": []
  }
 ],
 "metadata": {
  "kernelspec": {
   "display_name": "Python 3",
   "language": "python",
   "name": "python3"
  },
  "language_info": {
   "codemirror_mode": {
    "name": "ipython",
    "version": 3
   },
   "file_extension": ".py",
   "mimetype": "text/x-python",
   "name": "python",
   "nbconvert_exporter": "python",
   "pygments_lexer": "ipython3",
   "version": "3.6.7"
  }
 },
 "nbformat": 4,
 "nbformat_minor": 2
}
